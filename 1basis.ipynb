{
  "nbformat": 4,
  "nbformat_minor": 0,
  "metadata": {
    "colab": {
      "name": "1basis.ipynb",
      "provenance": [],
      "authorship_tag": "ABX9TyMuHzfDsqIv86RxW/4bWcP+",
      "include_colab_link": true
    },
    "kernelspec": {
      "name": "python3",
      "display_name": "Python 3"
    }
  },
  "cells": [
    {
      "cell_type": "markdown",
      "metadata": {
        "id": "view-in-github",
        "colab_type": "text"
      },
      "source": [
        "<a href=\"https://colab.research.google.com/github/akipips/pytorch/blob/master/1basis.ipynb\" target=\"_parent\"><img src=\"https://colab.research.google.com/assets/colab-badge.svg\" alt=\"Open In Colab\"/></a>"
      ]
    },
    {
      "cell_type": "markdown",
      "metadata": {
        "id": "r587__CNoASO",
        "colab_type": "text"
      },
      "source": [
        "##pytorchとは\n",
        "\n",
        "パイソンベースの数値計算パッケージ。numpyのndarrayに似ている。\n",
        "\n",
        "\n",
        "\n",
        "\n",
        "\n",
        "##**Tensor**\n",
        "\n",
        "テンソル：厳密には違うらしいですがここでは多次元配列ということにしましょう。\n",
        "\n",
        "調べればわかりますが、これだけ理解するのも相当キツイです。\n",
        "感覚的には下の資料が分かりやすいと思います。\n",
        "\n",
        "[*テンソル*](http://solid4.mech.okayama-u.ac.jp/%E3%83%86%E3%83%B3%E3%82%BD%E3%83%AB.pdf)\n",
        "\n"
      ]
    },
    {
      "cell_type": "code",
      "metadata": {
        "id": "Fvhr30qQpBmT",
        "colab_type": "code",
        "colab": {}
      },
      "source": [
        "import numpy as np \n",
        "import torch"
      ],
      "execution_count": 2,
      "outputs": []
    },
    {
      "cell_type": "code",
      "metadata": {
        "id": "ZMQjEkz-pBj-",
        "colab_type": "code",
        "colab": {
          "base_uri": "https://localhost:8080/",
          "height": 53
        },
        "outputId": "84776ffd-f314-4d88-ce09-fed319375223"
      },
      "source": [
        "#tensorを作成してみよう！\n",
        "torch.tensor([[1,2,3],[4,5,6]])"
      ],
      "execution_count": 6,
      "outputs": [
        {
          "output_type": "execute_result",
          "data": {
            "text/plain": [
              "tensor([[1, 2, 3],\n",
              "        [4, 5, 6]])"
            ]
          },
          "metadata": {
            "tags": []
          },
          "execution_count": 6
        }
      ]
    },
    {
      "cell_type": "code",
      "metadata": {
        "id": "z8YFCog_t6_Y",
        "colab_type": "code",
        "colab": {
          "base_uri": "https://localhost:8080/",
          "height": 71
        },
        "outputId": "cef6237e-78ec-4e14-c821-ab9cf421f29e"
      },
      "source": [
        "a=torch.rand(3,3)#3行３列　ランダム\n",
        "a"
      ],
      "execution_count": 12,
      "outputs": [
        {
          "output_type": "execute_result",
          "data": {
            "text/plain": [
              "tensor([[0.3931, 0.3932, 0.7740],\n",
              "        [0.0074, 0.6286, 0.3264],\n",
              "        [0.0249, 0.0448, 0.0884]])"
            ]
          },
          "metadata": {
            "tags": []
          },
          "execution_count": 12
        }
      ]
    },
    {
      "cell_type": "code",
      "metadata": {
        "id": "m7nBILz2xFYn",
        "colab_type": "code",
        "colab": {
          "base_uri": "https://localhost:8080/",
          "height": 71
        },
        "outputId": "f240fafc-153e-4de7-97e0-5eaabe278501"
      },
      "source": [
        "b=torch.Tensor(3, 3)#3行3列 めちゃくちゃ小さい値をランダムに出力\n",
        "b"
      ],
      "execution_count": 15,
      "outputs": [
        {
          "output_type": "execute_result",
          "data": {
            "text/plain": [
              "tensor([[3.5523e-35, 0.0000e+00, 1.2612e-44],\n",
              "        [0.0000e+00, 1.4013e-45, 0.0000e+00],\n",
              "        [4.4721e+21, 2.8799e+32, 1.3816e+31]])"
            ]
          },
          "metadata": {
            "tags": []
          },
          "execution_count": 15
        }
      ]
    },
    {
      "cell_type": "code",
      "metadata": {
        "id": "xScPO-byxijR",
        "colab_type": "code",
        "colab": {
          "base_uri": "https://localhost:8080/",
          "height": 71
        },
        "outputId": "7bb5d107-2106-469a-b2ed-840a5ed290cb"
      },
      "source": [
        "#演算もできるよ\n",
        "a+b"
      ],
      "execution_count": 16,
      "outputs": [
        {
          "output_type": "execute_result",
          "data": {
            "text/plain": [
              "tensor([[3.9312e-01, 3.9324e-01, 7.7401e-01],\n",
              "        [7.3797e-03, 6.2862e-01, 3.2642e-01],\n",
              "        [4.4721e+21, 2.8799e+32, 1.3816e+31]])"
            ]
          },
          "metadata": {
            "tags": []
          },
          "execution_count": 16
        }
      ]
    },
    {
      "cell_type": "code",
      "metadata": {
        "id": "e2usAnDQyqFe",
        "colab_type": "code",
        "colab": {
          "base_uri": "https://localhost:8080/",
          "height": 53
        },
        "outputId": "41f587c4-388a-48ea-9dc4-250016249c51"
      },
      "source": [
        "#倍精度のTensor\n",
        "torch.tensor([[1,2],[1,2]],dtype=torch.float64)"
      ],
      "execution_count": 17,
      "outputs": [
        {
          "output_type": "execute_result",
          "data": {
            "text/plain": [
              "tensor([[1., 2.],\n",
              "        [1., 2.]], dtype=torch.float64)"
            ]
          },
          "metadata": {
            "tags": []
          },
          "execution_count": 17
        }
      ]
    },
    {
      "cell_type": "code",
      "metadata": {
        "id": "RdIcKec95F4Q",
        "colab_type": "code",
        "colab": {
          "base_uri": "https://localhost:8080/",
          "height": 71
        },
        "outputId": "2c17066d-b968-450e-b9d2-fbcf69943267"
      },
      "source": [
        "#numpyへの変換も簡単！\n",
        "a.numpy()"
      ],
      "execution_count": 18,
      "outputs": [
        {
          "output_type": "execute_result",
          "data": {
            "text/plain": [
              "array([[0.3931206 , 0.39324474, 0.77400726],\n",
              "       [0.00737971, 0.6286232 , 0.3264165 ],\n",
              "       [0.02492803, 0.04482484, 0.08840799]], dtype=float32)"
            ]
          },
          "metadata": {
            "tags": []
          },
          "execution_count": 18
        }
      ]
    },
    {
      "cell_type": "markdown",
      "metadata": {
        "id": "nimiLlaeTXNY",
        "colab_type": "text"
      },
      "source": [
        "####インデクシング\n",
        "添え字を使った配列への操作全般のこと\n"
      ]
    },
    {
      "cell_type": "code",
      "metadata": {
        "id": "JEQYUGWR5bm8",
        "colab_type": "code",
        "colab": {
          "base_uri": "https://localhost:8080/",
          "height": 107
        },
        "outputId": "aad45c25-bb1b-468e-84e3-70b3b33638f4"
      },
      "source": [
        "#インデクシング:ndarrayとほぼ同じ\n",
        "t=torch.tensor([[1,2,3,4,5],\n",
        "                [6,7,8,9,10],\n",
        "                [11,12,13,14,15],\n",
        "                [16,17,18,19,20],\n",
        "                [21,22,23,24,25]])\n",
        "t"
      ],
      "execution_count": 3,
      "outputs": [
        {
          "output_type": "execute_result",
          "data": {
            "text/plain": [
              "tensor([[ 1,  2,  3,  4,  5],\n",
              "        [ 6,  7,  8,  9, 10],\n",
              "        [11, 12, 13, 14, 15],\n",
              "        [16, 17, 18, 19, 20],\n",
              "        [21, 22, 23, 24, 25]])"
            ]
          },
          "metadata": {
            "tags": []
          },
          "execution_count": 3
        }
      ]
    },
    {
      "cell_type": "code",
      "metadata": {
        "id": "OOnpL2EHRd1a",
        "colab_type": "code",
        "colab": {
          "base_uri": "https://localhost:8080/",
          "height": 53
        },
        "outputId": "4c68a4e1-e68e-444e-b6f5-8836806419d1"
      },
      "source": [
        "t[1:3]"
      ],
      "execution_count": 4,
      "outputs": [
        {
          "output_type": "execute_result",
          "data": {
            "text/plain": [
              "tensor([[ 6,  7,  8,  9, 10],\n",
              "        [11, 12, 13, 14, 15]])"
            ]
          },
          "metadata": {
            "tags": []
          },
          "execution_count": 4
        }
      ]
    },
    {
      "cell_type": "code",
      "metadata": {
        "id": "ms02L9xISzpD",
        "colab_type": "code",
        "colab": {
          "base_uri": "https://localhost:8080/",
          "height": 35
        },
        "outputId": "1acac862-6698-47dd-b7db-8dbec629155b"
      },
      "source": [
        "t[0]"
      ],
      "execution_count": 5,
      "outputs": [
        {
          "output_type": "execute_result",
          "data": {
            "text/plain": [
              "tensor([1, 2, 3, 4, 5])"
            ]
          },
          "metadata": {
            "tags": []
          },
          "execution_count": 5
        }
      ]
    },
    {
      "cell_type": "code",
      "metadata": {
        "id": "9Qo1yZ9TTSvv",
        "colab_type": "code",
        "colab": {
          "base_uri": "https://localhost:8080/",
          "height": 35
        },
        "outputId": "be19af2a-b836-4052-c2dd-28cc87d9bdf8"
      },
      "source": [
        "t[0,3]"
      ],
      "execution_count": 6,
      "outputs": [
        {
          "output_type": "execute_result",
          "data": {
            "text/plain": [
              "tensor(4)"
            ]
          },
          "metadata": {
            "tags": []
          },
          "execution_count": 6
        }
      ]
    },
    {
      "cell_type": "code",
      "metadata": {
        "id": "pZqsIij9TVZX",
        "colab_type": "code",
        "colab": {
          "base_uri": "https://localhost:8080/",
          "height": 53
        },
        "outputId": "dca01301-ddf7-4e49-c193-05e2ed27635e"
      },
      "source": [
        "t[1:3,:]"
      ],
      "execution_count": 4,
      "outputs": [
        {
          "output_type": "execute_result",
          "data": {
            "text/plain": [
              "tensor([[ 6,  7,  8,  9, 10],\n",
              "        [11, 12, 13, 14, 15]])"
            ]
          },
          "metadata": {
            "tags": []
          },
          "execution_count": 4
        }
      ]
    },
    {
      "cell_type": "code",
      "metadata": {
        "id": "_uzEAB9XT07w",
        "colab_type": "code",
        "colab": {
          "base_uri": "https://localhost:8080/",
          "height": 107
        },
        "outputId": "743027e9-7c32-4e39-e962-a4d6c8a0b3dd"
      },
      "source": [
        "t[:,1:3]"
      ],
      "execution_count": 6,
      "outputs": [
        {
          "output_type": "execute_result",
          "data": {
            "text/plain": [
              "tensor([[ 2,  3],\n",
              "        [ 7,  8],\n",
              "        [12, 13],\n",
              "        [17, 18],\n",
              "        [22, 23]])"
            ]
          },
          "metadata": {
            "tags": []
          },
          "execution_count": 6
        }
      ]
    },
    {
      "cell_type": "code",
      "metadata": {
        "id": "4N4ZaCCn-000",
        "colab_type": "code",
        "colab": {
          "base_uri": "https://localhost:8080/",
          "height": 53
        },
        "outputId": "a8da262d-3c68-4c58-ee12-8bbcbd8f85dc"
      },
      "source": [
        "t[1:3,1:3]"
      ],
      "execution_count": 7,
      "outputs": [
        {
          "output_type": "execute_result",
          "data": {
            "text/plain": [
              "tensor([[ 7,  8],\n",
              "        [12, 13]])"
            ]
          },
          "metadata": {
            "tags": []
          },
          "execution_count": 7
        }
      ]
    },
    {
      "cell_type": "code",
      "metadata": {
        "id": "Mn-f88I9-7GO",
        "colab_type": "code",
        "colab": {
          "base_uri": "https://localhost:8080/",
          "height": 107
        },
        "outputId": "45bfa53d-c2f3-4a95-a5ce-be9bf6576006"
      },
      "source": [
        "t[t%2==0]=0#条件式を[]に入れることでこんなこともできる。ブール型が要素になっている配列をマスク配列という。\n",
        "t"
      ],
      "execution_count": 12,
      "outputs": [
        {
          "output_type": "execute_result",
          "data": {
            "text/plain": [
              "tensor([[ 1,  0,  3,  0,  5],\n",
              "        [ 0,  7,  0,  9,  0],\n",
              "        [11,  0, 13,  0, 15],\n",
              "        [ 0, 17,  0, 19,  0],\n",
              "        [21,  0, 23,  0, 25]])"
            ]
          },
          "metadata": {
            "tags": []
          },
          "execution_count": 12
        }
      ]
    },
    {
      "cell_type": "code",
      "metadata": {
        "id": "rbbYB4fD_-cQ",
        "colab_type": "code",
        "colab": {}
      },
      "source": [
        "t[-1]=torch.tensor([1,2,3,4,5])"
      ],
      "execution_count": 20,
      "outputs": []
    },
    {
      "cell_type": "code",
      "metadata": {
        "id": "m4MLyd6JBdpb",
        "colab_type": "code",
        "colab": {
          "base_uri": "https://localhost:8080/",
          "height": 107
        },
        "outputId": "68077547-f7d7-4334-ab1f-2d12f0b4da47"
      },
      "source": [
        "t#テンソルの代入結果"
      ],
      "execution_count": 21,
      "outputs": [
        {
          "output_type": "execute_result",
          "data": {
            "text/plain": [
              "tensor([[ 1,  0,  3,  0,  5],\n",
              "        [ 0,  7,  0,  9,  0],\n",
              "        [11,  0, 13,  0, 15],\n",
              "        [ 0, 17,  0, 19,  0],\n",
              "        [ 1,  2,  3,  4,  5]])"
            ]
          },
          "metadata": {
            "tags": []
          },
          "execution_count": 21
        }
      ]
    }
  ]
}