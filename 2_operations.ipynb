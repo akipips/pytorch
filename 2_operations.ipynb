{
  "nbformat": 4,
  "nbformat_minor": 0,
  "metadata": {
    "colab": {
      "name": "2 operations.ipynb",
      "provenance": [],
      "authorship_tag": "ABX9TyM/Ztj3HwnOqHXayzNjrj8/",
      "include_colab_link": true
    },
    "kernelspec": {
      "name": "python3",
      "display_name": "Python 3"
    }
  },
  "cells": [
    {
      "cell_type": "markdown",
      "metadata": {
        "id": "view-in-github",
        "colab_type": "text"
      },
      "source": [
        "<a href=\"https://colab.research.google.com/github/akipips/pytorch/blob/master/2_operations.ipynb\" target=\"_parent\"><img src=\"https://colab.research.google.com/assets/colab-badge.svg\" alt=\"Open In Colab\"/></a>"
      ]
    },
    {
      "cell_type": "code",
      "metadata": {
        "id": "RlbZthnaC8Rg",
        "colab_type": "code",
        "colab": {}
      },
      "source": [
        "import numpy as np \n",
        "import torch"
      ],
      "execution_count": 66,
      "outputs": []
    },
    {
      "cell_type": "markdown",
      "metadata": {
        "id": "nyDa538yEE1v",
        "colab_type": "text"
      },
      "source": [
        "##pytorchの演算について\n",
        "\n",
        "Tensor同士かTensorとpythonのスカラーの組み合わせのみサポートされている。\n",
        "また、float型とdouble型の演算などもエラーとなる。\n",
        "numpyと同様にブロードキャストが適用されることもある。\n"
      ]
    },
    {
      "cell_type": "code",
      "metadata": {
        "id": "erXDzcSjGknG",
        "colab_type": "code",
        "colab": {
          "base_uri": "https://localhost:8080/",
          "height": 35
        },
        "outputId": "4b705205-658e-485e-ce85-138f6b217e07"
      },
      "source": [
        "t=torch.tensor([1,1,1])\n",
        "t"
      ],
      "execution_count": 23,
      "outputs": [
        {
          "output_type": "execute_result",
          "data": {
            "text/plain": [
              "tensor([1, 1, 1])"
            ]
          },
          "metadata": {
            "tags": []
          },
          "execution_count": 23
        }
      ]
    },
    {
      "cell_type": "code",
      "metadata": {
        "id": "6z4jz-dyHEYl",
        "colab_type": "code",
        "colab": {
          "base_uri": "https://localhost:8080/",
          "height": 35
        },
        "outputId": "dfb5dcbd-06e1-4573-abaa-f5790a537b77"
      },
      "source": [
        "#ブロードキャストの例\n",
        "t*(-1)"
      ],
      "execution_count": 24,
      "outputs": [
        {
          "output_type": "execute_result",
          "data": {
            "text/plain": [
              "tensor([-1, -1, -1])"
            ]
          },
          "metadata": {
            "tags": []
          },
          "execution_count": 24
        }
      ]
    },
    {
      "cell_type": "code",
      "metadata": {
        "id": "jF-ujy2AHJry",
        "colab_type": "code",
        "colab": {
          "base_uri": "https://localhost:8080/",
          "height": 35
        },
        "outputId": "ff1c96fe-92f1-46c9-b359-a401d0089d40"
      },
      "source": [
        "t*t"
      ],
      "execution_count": 25,
      "outputs": [
        {
          "output_type": "execute_result",
          "data": {
            "text/plain": [
              "tensor([1, 1, 1])"
            ]
          },
          "metadata": {
            "tags": []
          },
          "execution_count": 25
        }
      ]
    },
    {
      "cell_type": "code",
      "metadata": {
        "id": "DBC6O2qGHQ_n",
        "colab_type": "code",
        "colab": {
          "base_uri": "https://localhost:8080/",
          "height": 35
        },
        "outputId": "43641da0-830a-4267-e365-d47fa01338d1"
      },
      "source": [
        "a=torch.zeros(1,3)#tensor([[0., 0., 0.]])\n",
        "\n",
        "t*a"
      ],
      "execution_count": 30,
      "outputs": [
        {
          "output_type": "execute_result",
          "data": {
            "text/plain": [
              "tensor([[0., 0., 0.]])"
            ]
          },
          "metadata": {
            "tags": []
          },
          "execution_count": 30
        }
      ]
    },
    {
      "cell_type": "code",
      "metadata": {
        "id": "CbN5Y60ZHgx4",
        "colab_type": "code",
        "colab": {
          "base_uri": "https://localhost:8080/",
          "height": 71
        },
        "outputId": "1100ac09-698c-4f1e-acd7-6375b8f31c2c"
      },
      "source": [
        "b=torch.tensor([[1],\n",
        "                [2],\n",
        "                [3]])\n",
        "\n",
        "t*b"
      ],
      "execution_count": 32,
      "outputs": [
        {
          "output_type": "execute_result",
          "data": {
            "text/plain": [
              "tensor([[1, 1, 1],\n",
              "        [2, 2, 2],\n",
              "        [3, 3, 3]])"
            ]
          },
          "metadata": {
            "tags": []
          },
          "execution_count": 32
        }
      ]
    },
    {
      "cell_type": "markdown",
      "metadata": {
        "id": "pkkOGNXrIXDv",
        "colab_type": "text"
      },
      "source": [
        "##組み込み関数\n",
        "\n",
        "ndarrayとあんまり変わらない。abs,exp,sqrtなど\n"
      ]
    },
    {
      "cell_type": "code",
      "metadata": {
        "id": "qmTAwgc5KEjy",
        "colab_type": "code",
        "colab": {
          "base_uri": "https://localhost:8080/",
          "height": 35
        },
        "outputId": "b40d4be8-b86d-483f-a8f5-c45857cf365d"
      },
      "source": [
        "t=torch.tensor([-1,2,3])\n",
        "torch.abs(t)#絶対値"
      ],
      "execution_count": 35,
      "outputs": [
        {
          "output_type": "execute_result",
          "data": {
            "text/plain": [
              "tensor([1, 2, 3])"
            ]
          },
          "metadata": {
            "tags": []
          },
          "execution_count": 35
        }
      ]
    },
    {
      "cell_type": "code",
      "metadata": {
        "id": "2sYsbG34KRJz",
        "colab_type": "code",
        "colab": {
          "base_uri": "https://localhost:8080/",
          "height": 35
        },
        "outputId": "3fd5af33-0a2f-4a22-9351-6ed05e633df9"
      },
      "source": [
        "torch.exp(torch.tensor([1,2.]))"
      ],
      "execution_count": 41,
      "outputs": [
        {
          "output_type": "execute_result",
          "data": {
            "text/plain": [
              "tensor([2.7183, 7.3891])"
            ]
          },
          "metadata": {
            "tags": []
          },
          "execution_count": 41
        }
      ]
    },
    {
      "cell_type": "code",
      "metadata": {
        "id": "ul1SqNceKflJ",
        "colab_type": "code",
        "colab": {
          "base_uri": "https://localhost:8080/",
          "height": 35
        },
        "outputId": "881e1bf5-42b3-4a90-fc80-9ddf589a4c73"
      },
      "source": [
        "torch.sqrt(torch.tensor([1,2.]))#何故2に.をつけるかは一度外してみて実行してみればわかります。"
      ],
      "execution_count": 42,
      "outputs": [
        {
          "output_type": "execute_result",
          "data": {
            "text/plain": [
              "tensor([1.0000, 1.4142])"
            ]
          },
          "metadata": {
            "tags": []
          },
          "execution_count": 42
        }
      ]
    },
    {
      "cell_type": "code",
      "metadata": {
        "id": "oZoaFd1aL-4a",
        "colab_type": "code",
        "colab": {
          "base_uri": "https://localhost:8080/",
          "height": 173
        },
        "outputId": "af92a4f9-e536-48d7-885a-a3a14871c16e"
      },
      "source": [
        "torch.mean(t)#floatじゃなきゃけいさんできねーよって怒られちゃいました"
      ],
      "execution_count": 43,
      "outputs": [
        {
          "output_type": "error",
          "ename": "RuntimeError",
          "evalue": "ignored",
          "traceback": [
            "\u001b[0;31m---------------------------------------------------------------------------\u001b[0m",
            "\u001b[0;31mRuntimeError\u001b[0m                              Traceback (most recent call last)",
            "\u001b[0;32m<ipython-input-43-96a18be4908f>\u001b[0m in \u001b[0;36m<module>\u001b[0;34m()\u001b[0m\n\u001b[0;32m----> 1\u001b[0;31m \u001b[0mtorch\u001b[0m\u001b[0;34m.\u001b[0m\u001b[0mmean\u001b[0m\u001b[0;34m(\u001b[0m\u001b[0mt\u001b[0m\u001b[0;34m)\u001b[0m\u001b[0;34m\u001b[0m\u001b[0;34m\u001b[0m\u001b[0m\n\u001b[0m",
            "\u001b[0;31mRuntimeError\u001b[0m: Can only calculate the mean of floating types. Got Long instead."
          ]
        }
      ]
    },
    {
      "cell_type": "code",
      "metadata": {
        "id": "2ITrwwb0MvCr",
        "colab_type": "code",
        "colab": {
          "base_uri": "https://localhost:8080/",
          "height": 35
        },
        "outputId": "78737f9a-0c19-4d3e-afe1-bb5888352ede"
      },
      "source": [
        "torch.mean(torch.tensor([2020,6,24.]))#この.でfloat型になるってことですね！"
      ],
      "execution_count": 47,
      "outputs": [
        {
          "output_type": "execute_result",
          "data": {
            "text/plain": [
              "tensor(683.3333)"
            ]
          },
          "metadata": {
            "tags": []
          },
          "execution_count": 47
        }
      ]
    },
    {
      "cell_type": "code",
      "metadata": {
        "id": "Yl4WUx13NCIf",
        "colab_type": "code",
        "colab": {
          "base_uri": "https://localhost:8080/",
          "height": 35
        },
        "outputId": "a001e51c-e213-42bf-849c-3bb8c4e5ff13"
      },
      "source": [
        "a=torch.tensor([[1,1,1],\n",
        "                [2,2,2.]])\n",
        "\n",
        "b=torch.tensor([[1],\n",
        "                [2.]])\n",
        "\n",
        "a.view(1,6)#ndarrayにおけるreshapeに相当"
      ],
      "execution_count": 55,
      "outputs": [
        {
          "output_type": "execute_result",
          "data": {
            "text/plain": [
              "tensor([[1., 1., 1., 2., 2., 2.]])"
            ]
          },
          "metadata": {
            "tags": []
          },
          "execution_count": 55
        }
      ]
    },
    {
      "cell_type": "code",
      "metadata": {
        "id": "6cykdoe2pPgt",
        "colab_type": "code",
        "colab": {
          "base_uri": "https://localhost:8080/",
          "height": 71
        },
        "outputId": "e9906ff1-9f71-4e70-abd1-8a4d10f6edc9"
      },
      "source": [
        "a.t()#転置"
      ],
      "execution_count": 56,
      "outputs": [
        {
          "output_type": "execute_result",
          "data": {
            "text/plain": [
              "tensor([[1., 2.],\n",
              "        [1., 2.],\n",
              "        [1., 2.]])"
            ]
          },
          "metadata": {
            "tags": []
          },
          "execution_count": 56
        }
      ]
    },
    {
      "cell_type": "code",
      "metadata": {
        "id": "VO807IY2pXeq",
        "colab_type": "code",
        "colab": {
          "base_uri": "https://localhost:8080/",
          "height": 53
        },
        "outputId": "9fe20dee-b71c-42bb-8e2f-d0fd3bdac381"
      },
      "source": [
        "torch.cat([a,b],dim=1)#合成"
      ],
      "execution_count": 57,
      "outputs": [
        {
          "output_type": "execute_result",
          "data": {
            "text/plain": [
              "tensor([[1., 1., 1., 1.],\n",
              "        [2., 2., 2., 2.]])"
            ]
          },
          "metadata": {
            "tags": []
          },
          "execution_count": 57
        }
      ]
    },
    {
      "cell_type": "markdown",
      "metadata": {
        "id": "Sa_bjv_Ep58D",
        "colab_type": "text"
      },
      "source": [
        "##線形代数\n",
        "\n",
        "ここからはベクトルの内積などを扱う。\n"
      ]
    },
    {
      "cell_type": "code",
      "metadata": {
        "id": "QkmbvxCXrFPS",
        "colab_type": "code",
        "colab": {
          "base_uri": "https://localhost:8080/",
          "height": 53
        },
        "outputId": "0369d25e-c54b-4bdb-93b3-917d3a1ac455"
      },
      "source": [
        "#matmal\n",
        "\n",
        "a=torch.tensor([[1,2,3.],\n",
        "                [4,5,6.]])\n",
        "\n",
        "b=torch.tensor([[1,2],\n",
        "                [3,4],\n",
        "                [5,6.]])\n",
        "\n",
        "torch.mm(a,b)\n",
        "\n",
        "#dotやmvなどもあるけど次の演算が自動化されていて便利"
      ],
      "execution_count": 67,
      "outputs": [
        {
          "output_type": "execute_result",
          "data": {
            "text/plain": [
              "tensor([[22., 28.],\n",
              "        [49., 64.]])"
            ]
          },
          "metadata": {
            "tags": []
          },
          "execution_count": 67
        }
      ]
    },
    {
      "cell_type": "code",
      "metadata": {
        "id": "v0rDCM1CtT9M",
        "colab_type": "code",
        "colab": {}
      },
      "source": [
        "c=torch.tensor([1,2,3.])"
      ],
      "execution_count": 68,
      "outputs": []
    },
    {
      "cell_type": "code",
      "metadata": {
        "id": "JJp-bynUv6XC",
        "colab_type": "code",
        "colab": {
          "base_uri": "https://localhost:8080/",
          "height": 35
        },
        "outputId": "be402304-aa26-4391-a3eb-121c36ce6f22"
      },
      "source": [
        "torch.matmul(c,b)#matmul:引数の種類で自動的にmm,mv,dotを決めてくれる"
      ],
      "execution_count": 70,
      "outputs": [
        {
          "output_type": "execute_result",
          "data": {
            "text/plain": [
              "tensor([22., 28.])"
            ]
          },
          "metadata": {
            "tags": []
          },
          "execution_count": 70
        }
      ]
    },
    {
      "cell_type": "code",
      "metadata": {
        "id": "dbh2SstbwEdZ",
        "colab_type": "code",
        "colab": {
          "base_uri": "https://localhost:8080/",
          "height": 35
        },
        "outputId": "cc5a2a5b-3fa5-41a9-d03e-bdd3ca3da1cb"
      },
      "source": [
        "torch.matmul(c,c)"
      ],
      "execution_count": 71,
      "outputs": [
        {
          "output_type": "execute_result",
          "data": {
            "text/plain": [
              "tensor(14.)"
            ]
          },
          "metadata": {
            "tags": []
          },
          "execution_count": 71
        }
      ]
    }
  ]
}